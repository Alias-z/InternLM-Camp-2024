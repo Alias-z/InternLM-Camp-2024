{
 "cells": [
  {
   "cell_type": "markdown",
   "metadata": {},
   "source": [
    "### Build Database 1 and Database 2"
   ]
  },
  {
   "cell_type": "markdown",
   "metadata": {},
   "source": [
    "#### Define Functions"
   ]
  },
  {
   "cell_type": "code",
   "execution_count": 1,
   "metadata": {},
   "outputs": [],
   "source": [
    "import os\n",
    "from tqdm import tqdm\n",
    "from langchain.vectorstores import Chroma\n",
    "from langchain.embeddings.huggingface import HuggingFaceEmbeddings\n",
    "from langchain.text_splitter import RecursiveCharacterTextSplitter\n",
    "from langchain.document_loaders import UnstructuredFileLoader\n",
    "from langchain.document_loaders import UnstructuredMarkdownLoader\n",
    "\n",
    "def get_files(dir_path: str) -> list:\n",
    "    \"\"\"Filter out docs that are not markdown nor txt\"\"\"\n",
    "    file_list = [] # to store the paths of .md and .txt files\n",
    "    for filepath, dirnames, filenames in os.walk(dir_path):\n",
    "        for filename in filenames:\n",
    "            if filename.endswith(\".md\"):\n",
    "                file_list.append(os.path.join(filepath, filename))  # add .md file paths\n",
    "            elif filename.endswith(\".txt\"):\n",
    "                file_list.append(os.path.join(filepath, filename))  # add .txt file paths\n",
    "    return file_list\n",
    "\n",
    "def get_text(target_dirs: list) -> list:\n",
    "    \"\"\"Convert .md and .txt files to plain text and load them under given target directories\"\"\"\n",
    "    docs = []  # to store unformated text\n",
    "    for dir_path in target_dirs:\n",
    "        file_lst = get_files(dir_path)  # get the paths of .md and .txt\n",
    "        for one_file in tqdm(file_lst):\n",
    "            file_type = one_file.split('.')[-1]\n",
    "            if file_type == 'md':\n",
    "                loader = UnstructuredMarkdownLoader(one_file)  # convert .md to plain text\n",
    "            elif file_type == 'txt':\n",
    "                loader = UnstructuredFileLoader(one_file)  # convert .txt to plain text\n",
    "            else:\n",
    "                continue\n",
    "            docs.extend(loader.load())  # add the converted plain text to a list\n",
    "    return docs"
   ]
  },
  {
   "cell_type": "markdown",
   "metadata": {},
   "source": [
    "#### Convert .md and .txt files to plain text and load them"
   ]
  },
  {
   "cell_type": "code",
   "execution_count": 3,
   "metadata": {},
   "outputs": [
    {
     "name": "stderr",
     "output_type": "stream",
     "text": [
      " 80%|████████  | 20/25 [00:00<00:00, 23.16it/s]"
     ]
    },
    {
     "name": "stderr",
     "output_type": "stream",
     "text": [
      "100%|██████████| 25/25 [00:00<00:00, 25.51it/s]\n",
      "100%|██████████| 9/9 [00:00<00:00, 24.29it/s]\n",
      "100%|██████████| 18/18 [00:00<00:00, 43.16it/s]\n",
      "100%|██████████| 72/72 [00:02<00:00, 29.06it/s]\n",
      "100%|██████████| 113/113 [00:04<00:00, 23.22it/s]\n",
      "100%|██████████| 26/26 [00:01<00:00, 22.11it/s]\n",
      " 49%|████▉     | 138/279 [00:07<00:07, 19.92it/s]No features in text.\n",
      "100%|██████████| 279/279 [00:13<00:00, 21.46it/s]\n",
      "100%|██████████| 128/128 [00:08<00:00, 14.80it/s]\n"
     ]
    }
   ],
   "source": [
    "target_dirs = [\n",
    "    \"/root/data/InternLM\",\n",
    "    \"/root/data/InternLM-XComposer\",\n",
    "    \"/root/data/lagent\",\n",
    "    \"/root/data/lmdeploy\",\n",
    "    \"/root/data/opencompass\",\n",
    "    \"/root/data/xtuner\"\n",
    "]\n",
    "\n",
    "target_dirs_2 = [\n",
    "    \"/root/data/mmdetection\",\n",
    "    \"/root/data/mmengine\",\n",
    "]\n",
    "\n",
    "docs = get_text(target_dirs)\n",
    "docs_2 = get_text(target_dirs_2)\n",
    "\n",
    "text_splitter = RecursiveCharacterTextSplitter(chunk_size=500, chunk_overlap=150)\n",
    "embeddings = HuggingFaceEmbeddings(model_name=\"/root/data/model/sentence-transformer\")  # model for chuncks vectorization\n",
    "\n",
    "persist_directory = '/root/data_base/vector_db/chroma'  # where to store the vector database\n",
    "split_docs = text_splitter.split_documents(docs)  # splitted text chuncks\n",
    "\n",
    "persist_directory_2 = '/root/data_base/vector_db/chroma_2'  # where to store the vector database\n",
    "split_docs_2 = text_splitter.split_documents(docs_2)  # splitted text chuncks\n",
    "\n",
    "vectordb = Chroma.from_documents(\n",
    "    documents=split_docs,\n",
    "    embedding=embeddings,\n",
    "    persist_directory=persist_directory\n",
    ")\n",
    "\n",
    "vectordb_2 = Chroma.from_documents(\n",
    "    documents=split_docs_2,\n",
    "    embedding=embeddings,\n",
    "    persist_directory=persist_directory_2\n",
    ")\n",
    "\n",
    "vectordb.persist()  # store the database in the local disk\n",
    "vectordb_2.persist()"
   ]
  }
 ],
 "metadata": {
  "kernelspec": {
   "display_name": "langchain",
   "language": "python",
   "name": "python3"
  },
  "language_info": {
   "codemirror_mode": {
    "name": "ipython",
    "version": 3
   },
   "file_extension": ".py",
   "mimetype": "text/x-python",
   "name": "python",
   "nbconvert_exporter": "python",
   "pygments_lexer": "ipython3",
   "version": "3.10.13"
  }
 },
 "nbformat": 4,
 "nbformat_minor": 2
}
